{
  "nbformat": 4,
  "nbformat_minor": 0,
  "metadata": {
    "colab": {
      "provenance": []
    },
    "kernelspec": {
      "name": "python3",
      "display_name": "Python 3"
    },
    "language_info": {
      "name": "python"
    }
  },
  "cells": [
    {
      "cell_type": "markdown",
      "source": [
        "Problem 1"
      ],
      "metadata": {
        "id": "LlbjInZ4h4on"
      }
    },
    {
      "cell_type": "markdown",
      "source": [
        "1a"
      ],
      "metadata": {
        "id": "Ky-YS1xMVokD"
      }
    },
    {
      "cell_type": "code",
      "source": [
        "p = 1\n",
        "\n",
        "x = 0\n",
        "for i in range(1, 11):\n",
        "    x += 1 / (i ** p)\n",
        "print(\"Solution for i:\", x)\n",
        "\n",
        "x = 0\n",
        "for i in range(1, 101):\n",
        "    x += 1 / (i ** p)\n",
        "print(\"Solution for ii:\", x)\n",
        "\n",
        "x = 0\n",
        "for i in range(1, 10001):\n",
        "    x += 1 / (i ** p)\n",
        "print(\"Solution for iii:\", x)\n"
      ],
      "metadata": {
        "colab": {
          "base_uri": "https://localhost:8080/"
        },
        "id": "7X4M16CHd-2c",
        "outputId": "75501a95-989b-4d40-a96a-f42eb097ddfa"
      },
      "execution_count": null,
      "outputs": [
        {
          "output_type": "stream",
          "name": "stdout",
          "text": [
            "Solution for i: 2.9289682539682538\n",
            "Solution for ii: 5.187377517639621\n",
            "Solution for iii: 9.787606036044348\n"
          ]
        }
      ]
    },
    {
      "cell_type": "markdown",
      "source": [
        "1b"
      ],
      "metadata": {
        "id": "nVdY22c6bWsR"
      }
    },
    {
      "cell_type": "code",
      "source": [
        "p = 2\n",
        "x = 0\n",
        "for i in range(1, 11):\n",
        "    x += 1 / (i ** p)\n",
        "print(\"Solution for i:\", x)\n",
        "\n",
        "x = 0\n",
        "for i in range (1,101):\n",
        "  x += 1/(i**p)\n",
        "print(\"solution for ii:\", x)\n",
        "\n",
        "x = 0\n",
        "for i in range (1,10001):\n",
        "  x += (1/i**p)\n",
        "print(\"solution for iii:\", x)"
      ],
      "metadata": {
        "colab": {
          "base_uri": "https://localhost:8080/"
        },
        "id": "Z-Vah73PfdWy",
        "outputId": "31efae10-46e0-4fe5-e429-e3c5fe8224b3"
      },
      "execution_count": null,
      "outputs": [
        {
          "output_type": "stream",
          "name": "stdout",
          "text": [
            "Solution for i: 1.5497677311665408\n",
            "solution for ii: 1.6349839001848923\n",
            "solution for iii: 1.6448340718480652\n"
          ]
        }
      ]
    },
    {
      "cell_type": "markdown",
      "source": [
        "1c\n",
        "\n",
        "I have't seen any major difffernce caomparing 1a and 1b. In my observation, as the complexity of the calicullations increases the outpit time will increase. In such case, 1b might have a milli seconds difference with 1a."
      ],
      "metadata": {
        "id": "TzVimEQvhuk9"
      }
    },
    {
      "cell_type": "markdown",
      "source": [
        "Problem 2"
      ],
      "metadata": {
        "id": "PP2C4DT1iGIN"
      }
    },
    {
      "cell_type": "code",
      "source": [
        "vehicles = {\"subcompact\", \"compact\", \"intermediate\", \"Luxury\", \"Truck\", \"Van\"}\n",
        "total_production = 1.2 * 10**6\n",
        "compacts_max = 620000\n",
        "ilx_max = 400000\n",
        "tv_max = 275000\n",
        "eco = 27\n",
        "n_compacts = 0\n",
        "n_ilx = 0\n",
        "n_tv = 0\n",
        "increment = 10\n",
        "best_profit_so_far = 0\n",
        "for s in range(1, 601, increment):\n",
        "    for c in range(1, 401, increment):\n",
        "        for i in range(1, 301, increment):\n",
        "            for l in range(1, 226, increment):\n",
        "                for t in range(1, 326, increment):\n",
        "                    for v in range(1, 101, increment):\n",
        "                        if (s + c) < 0.5 * (s + c + l + i):\n",
        "                            continue\n",
        "                        if (i + l) * 1000 > ilx_max:\n",
        "                            continue\n",
        "                        if (t + v) * 1000 > tv_max:\n",
        "                            continue\n",
        "                        if (s + c + i + l + t + v) * 1000 > total_production:\n",
        "                            continue\n",
        "                        if (s * 40 + c * 34 + i * 15 + l * 12 + t * 20 + v * 25) / (\n",
        "                                s + c + i + l + t + v) < eco:\n",
        "                            continue\n",
        "                        current_profit = 50 * s + 225 * c + 250 * i + 500 * l + 400 * t + 200 * v\n",
        "                        if current_profit > best_profit_so_far:\n",
        "                            best_profit_so_far = current_profit\n",
        "print(\"Profit: \" + str(best_profit_so_far))\n"
      ],
      "metadata": {
        "colab": {
          "base_uri": "https://localhost:8080/"
        },
        "id": "5Ce8gaO8mxhn",
        "outputId": "c3de006f-5f79-44b5-f7fa-165d0de3ffa3"
      },
      "execution_count": null,
      "outputs": [
        {
          "output_type": "stream",
          "name": "stdout",
          "text": [
            "Profit: 334875\n"
          ]
        }
      ]
    },
    {
      "cell_type": "markdown",
      "source": [
        "\n",
        "1. Optimal profit of ACA is 334875\n",
        "2. Initially it took longer to execute and the final run time is 8 minutes 51 sec after changing the indentation."
      ],
      "metadata": {
        "id": "TNkP6ztUjmE1"
      }
    },
    {
      "cell_type": "markdown",
      "source": [
        "Problem 3"
      ],
      "metadata": {
        "id": "z6yi0_bqjc6x"
      }
    },
    {
      "cell_type": "code",
      "source": [
        "import scipy.stats as st\n",
        "import random\n",
        "import numpy as np\n",
        "\n",
        "np.random.seed(343)\n",
        "best_profit_so_far = 0\n",
        "best_c = 0\n",
        "best_d = 0\n",
        "best_t = 0\n",
        "option_index = 0\n",
        "\n",
        "random_fabrication_limits = st.norm.rvs(1850, 350, size=10000)\n",
        "random_assembly_limits = st.norm.rvs(2400, 400, size=10000)\n",
        "random_shipping_limits = st.norm.rvs(1500, 500, size=10000)\n",
        "\n",
        "fabrication_quantiles = np.quantile(random_fabrication_limits, 0.1)\n",
        "assembly_quantiles = np.quantile(random_assembly_limits, 0.1)\n",
        "shipping_quantiles = np.quantile(random_shipping_limits, 0.1)\n",
        "\n",
        "for c in range(0, 351, 5):\n",
        "    for d in range(0, 401, 5):\n",
        "        for t in range(0, 501, 5):\n",
        "            x = 4 * c + 6 * d + 2 * t\n",
        "            if x > 1850:\n",
        "                continue\n",
        "            mean_x = np.mean(fabrication_quantiles)  # Expected value\n",
        "            y = 3 * c + 5 * d + 7 * t\n",
        "            if y > 2400:\n",
        "                continue\n",
        "            mean_y = np.mean(assembly_quantiles)  # Expected value\n",
        "            z = 3 * c + 2 * d + 4 * t\n",
        "            if z > 1500:\n",
        "                continue\n",
        "            mean_z = np.mean(shipping_quantiles)  # Expected value\n",
        "            if mean_x * mean_y * mean_z < 0.9:  # Check for probability or confidence levels\n",
        "                continue\n",
        "            option_index += 1\n",
        "            current_solution_profit = 15 * c + 24 * d + 18 * t\n",
        "            if current_solution_profit > best_profit_so_far:\n",
        "                best_profit_so_far = current_solution_profit\n",
        "                best_c = c\n",
        "                best_d = d\n",
        "                best_t = t\n",
        "\n",
        "print(option_index)\n"
      ],
      "metadata": {
        "colab": {
          "base_uri": "https://localhost:8080/"
        },
        "id": "hxFjg2iTlhOz",
        "outputId": "8058a32e-e4ca-4231-8112-d0a7166e003e"
      },
      "execution_count": null,
      "outputs": [
        {
          "output_type": "stream",
          "name": "stdout",
          "text": [
            "100820\n"
          ]
        }
      ]
    },
    {
      "cell_type": "code",
      "source": [
        "best_c"
      ],
      "metadata": {
        "colab": {
          "base_uri": "https://localhost:8080/"
        },
        "id": "hfyHSBsunMbI",
        "outputId": "c6cde613-f8c9-4c10-ebd8-057985a2b820"
      },
      "execution_count": null,
      "outputs": [
        {
          "output_type": "execute_result",
          "data": {
            "text/plain": [
              "0"
            ]
          },
          "metadata": {},
          "execution_count": 37
        }
      ]
    },
    {
      "cell_type": "code",
      "source": [
        "best_profit_so_far"
      ],
      "metadata": {
        "colab": {
          "base_uri": "https://localhost:8080/"
        },
        "id": "5NXiPnLayoad",
        "outputId": "b7bfde0b-7abc-46e0-9718-faa0d8b010f4"
      },
      "execution_count": null,
      "outputs": [
        {
          "output_type": "execute_result",
          "data": {
            "text/plain": [
              "9000"
            ]
          },
          "metadata": {},
          "execution_count": 38
        }
      ]
    },
    {
      "cell_type": "code",
      "source": [
        "best_d"
      ],
      "metadata": {
        "colab": {
          "base_uri": "https://localhost:8080/"
        },
        "id": "bJrOP9udwnuF",
        "outputId": "44033f2b-fd47-4e7c-814a-8340e74f9868"
      },
      "execution_count": null,
      "outputs": [
        {
          "output_type": "execute_result",
          "data": {
            "text/plain": [
              "255"
            ]
          },
          "metadata": {},
          "execution_count": 39
        }
      ]
    },
    {
      "cell_type": "code",
      "source": [
        "best_t"
      ],
      "metadata": {
        "colab": {
          "base_uri": "https://localhost:8080/"
        },
        "id": "OPCtrxBuwrj9",
        "outputId": "aeacfd8e-5145-4103-fc0c-410eebf55cf7"
      },
      "execution_count": null,
      "outputs": [
        {
          "output_type": "execute_result",
          "data": {
            "text/plain": [
              "160"
            ]
          },
          "metadata": {},
          "execution_count": 40
        }
      ]
    },
    {
      "cell_type": "code",
      "source": [
        "mean_x"
      ],
      "metadata": {
        "colab": {
          "base_uri": "https://localhost:8080/"
        },
        "id": "b3BUrpxrxCKw",
        "outputId": "d8899bd0-d92c-4360-cfb0-fa959477eaf0"
      },
      "execution_count": null,
      "outputs": [
        {
          "output_type": "execute_result",
          "data": {
            "text/plain": [
              "1402.1629014753296"
            ]
          },
          "metadata": {},
          "execution_count": 41
        }
      ]
    },
    {
      "cell_type": "code",
      "source": [
        "mean_y"
      ],
      "metadata": {
        "colab": {
          "base_uri": "https://localhost:8080/"
        },
        "id": "y87iYeAxxGuz",
        "outputId": "000a123d-08ec-4a13-91d0-7a274734355a"
      },
      "execution_count": null,
      "outputs": [
        {
          "output_type": "execute_result",
          "data": {
            "text/plain": [
              "1892.6711192080022"
            ]
          },
          "metadata": {},
          "execution_count": 42
        }
      ]
    },
    {
      "cell_type": "code",
      "source": [
        "mean_z"
      ],
      "metadata": {
        "colab": {
          "base_uri": "https://localhost:8080/"
        },
        "id": "qFZRF7RYxKYY",
        "outputId": "4043b0f2-7481-49aa-c13f-4c2398d3fee4"
      },
      "execution_count": null,
      "outputs": [
        {
          "output_type": "execute_result",
          "data": {
            "text/plain": [
              "868.6994920584068"
            ]
          },
          "metadata": {},
          "execution_count": 43
        }
      ]
    },
    {
      "cell_type": "markdown",
      "source": [
        "Problem 4"
      ],
      "metadata": {
        "id": "-qjaxt9VxQu4"
      }
    },
    {
      "cell_type": "markdown",
      "source": [],
      "metadata": {
        "id": "2M-hPqQDEQH_"
      }
    },
    {
      "cell_type": "markdown",
      "source": [
        "If I have to chose one with analytical approach then I will go with the decesion of selling my fathers cable business. It was in 2013 where my father sold out 300+ connection capacity local cable network thinking as there is no scope of future in this business. It was one of our monthly source of incomes and he thought the cable business is going down soon.\n",
        "\n",
        "I will choose monthly profit as objectives, Opex as variables and capax as constrains. This could have made my family to better decesion of not selling the business. I would have collected the past 10 years od data and projected it with the future demand and profits."
      ],
      "metadata": {
        "id": "-WDxPiKzGAYB"
      }
    }
  ]
}